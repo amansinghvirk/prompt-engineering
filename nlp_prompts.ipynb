{
 "cells": [
  {
   "cell_type": "markdown",
   "id": "532d85ec",
   "metadata": {},
   "source": [
    "# Prompt Engineering for NLP tasks\n",
    "Demonstration of how prompt engineering can be used for LLM models to use specific NLP tasks\n",
    "\n",
    "This project aims to demonstrate the capabilities of the Large Language Model using Prompt Engineering and Language Chain techniques. By leveraging models like GPT3.5-turbo, we can solve multiple Natural Language Processing tasks without the need for separate models. The tasks include language identification, translation, text summarization, classification, sentiment detection, topic mining, and named entity recognition. These large language models have been trained on diverse language corpora and can efficiently handle various language-related tasks."
   ]
  },
  {
   "cell_type": "markdown",
   "id": "136a1640",
   "metadata": {},
   "source": [
    "### Setup Requirements\n",
    "\n",
    "Model use the paid OpenAI API for using GPT3.5-turbo model. Demonstration of code is there in nlp_prompts.ipynb notebook to execute the code in notebook follow the below setup tasks:\n",
    "\n",
    "<code>\n",
    "- install the required libraries using requirements.txt file\n",
    "    $ pip install -r requirements.txt\n",
    "    \n",
    "- create a config.yaml file in root directory with below api key to communicate with OpenAI API:\n",
    "    OPEN_AI_API_KEY: <apikey>\n",
    "</code>  "
   ]
  },
  {
   "cell_type": "code",
   "execution_count": 1,
   "id": "6708610f",
   "metadata": {},
   "outputs": [],
   "source": [
    "import yaml\n",
    "from src.prompt_models.language_prompts import detect_language, translate_text\n",
    "from src.prompt_models.summarization import summarize_text\n",
    "from src.prompt_models.classification import detect_category, detect_sentiment\n",
    "from src.prompt_models.topic_mining import topics\n",
    "from src.prompt_models.ner import named_entities\n",
    "from src.langchain import lang_chain"
   ]
  },
  {
   "cell_type": "markdown",
   "id": "8e1972d5",
   "metadata": {},
   "source": [
    "#### Following text is used for the examples, text is in hindi language"
   ]
  },
  {
   "cell_type": "code",
   "execution_count": 3,
   "id": "cc1c4aa4",
   "metadata": {},
   "outputs": [],
   "source": [
    "text = \"\"\"टेक्सटाइल सेक्टर में घरेलू निर्माण को बढ़ाने और निर्यात को बढ़ावा देने के लिये केन्द्रीय \n",
    "    मंत्रिमंडल ने आज  10,683 करोड़ रुपये की उत्पादन आधारित प्रोत्साहन (पीएलआई) योजना को \n",
    "    मंजूरी दे दी है। केन्द्रीय मंत्री अनुराग ठाकुर ने आज इस बारे में जानकारी दी। \n",
    "    ये फैसला प्रधानमंत्री नरेन्द्र मोदी की अध्यक्षता में हुई कैबिनेट की बैठक में लिया गया है। \n",
    "    मंत्रिमंडल इससे पहले देश में विनिर्माण क्षमता और निर्यात को बढ़ावा देने के लिये 13 प्रमुख क्षेत्रों के लिये \n",
    "    पीएलआई योजना को मंजूरी दे चुका है।\n",
    "\n",
    "    केन्द्रीय मंत्री अनुराग ठाकुर के मुताबिक कैबिनेट ने मानव निर्मित रेशे  (man-made fibre) मानव निर्मित \n",
    "    फैब्रिक और टेक्निकल टेक्सटाइल के 10 सेग्मेंट या उत्पादों के लिये प्रोत्साहन योजना को मंजूरी दी है। \n",
    "    टेक्निकल टेक्सटाइल फार्मा, मेटल, ऑटो आदि सेक्टर में काम आने वाले खास फैब्रिक होते हैं। क\n",
    "    ोविड के दौरान इनकी मांग काफी बढ़ी थी, जिसके बाद सरकार ने इनके घरेलू उत्पादन को बढ़ाने पर \n",
    "    जोर दिया है। सरकार का अनुमान है कि इस योजना से सीधे तौर पर 7.5 लाख लोगों को रोजगार उपलब्ध \n",
    "    होगा वहीं अप्रत्यक्ष रूप से इससे कहीं ज्यादा लोगों को रोजगार मिल सकेगा। \n",
    "    योजना से छोटे शहरों को फायदा मिलने की उम्मीद है।\"\"\""
   ]
  },
  {
   "cell_type": "markdown",
   "id": "4389f211",
   "metadata": {},
   "source": [
    "#### <b>Task 1: </b> Language Detection"
   ]
  },
  {
   "cell_type": "code",
   "execution_count": 3,
   "id": "32e1a5b4",
   "metadata": {},
   "outputs": [
    {
     "data": {
      "text/plain": [
       "{'DETECTED_LANGUAGE': 'Hindi'}"
      ]
     },
     "execution_count": 3,
     "metadata": {},
     "output_type": "execute_result"
    }
   ],
   "source": [
    "detected_language = detect_language(text_body=text)\n",
    "detected_language"
   ]
  },
  {
   "cell_type": "markdown",
   "id": "8abfcdd1",
   "metadata": {},
   "source": [
    "#### <b>Task 2: </b> Language Translation"
   ]
  },
  {
   "cell_type": "code",
   "execution_count": 4,
   "id": "8184a204",
   "metadata": {},
   "outputs": [
    {
     "data": {
      "text/plain": [
       "{'TRANSLATED_TEXT': 'The Central Cabinet has approved a production-based incentive (PBI) scheme worth Rs 10,683 crore today to increase domestic construction and boost exports in the textile sector. Central Minister Anurag Thakur provided information about this today. This decision was taken in a cabinet meeting chaired by Prime Minister Narendra Modi. Prior to this, the Cabinet had approved the PBI scheme for 13 major sectors in the country to increase manufacturing capacity and exports. According to Central Minister Anurag Thakur, the Cabinet has approved the incentive scheme for 10 segments or products of man-made fibers, man-made fabrics, and technical textiles. Technical textiles include special fabrics used in the pharma, metal, auto, and other sectors. Their demand increased significantly during COVID, after which the government emphasized increasing their domestic production. The government estimates that this scheme will directly provide employment to 7.5 lakh people and indirectly to many more. The scheme is expected to benefit small towns.'}"
      ]
     },
     "execution_count": 4,
     "metadata": {},
     "output_type": "execute_result"
    }
   ],
   "source": [
    "translated_text = translate_text(\n",
    "    text_body=text, \n",
    "    original_lang=detected_language[\"DETECTED_LANGUAGE\"], \n",
    "    translated_lang=\"English\"\n",
    ")\n",
    "translated_text"
   ]
  },
  {
   "cell_type": "markdown",
   "id": "853375da",
   "metadata": {},
   "source": [
    "#### <b>Task 3: </b> Text Summarization"
   ]
  },
  {
   "cell_type": "code",
   "execution_count": 5,
   "id": "48dd2407",
   "metadata": {},
   "outputs": [
    {
     "data": {
      "text/plain": [
       "'The Central Cabinet has approved a production-based incentive (PBI) scheme worth Rs 10,683 crore to increase domestic construction and boost exports in the textile sector, covering 10 segments or products of man-made fibers, man-made fabrics, and technical textiles, which is expected to directly provide employment to 7.5 lakh people and benefit small towns.'"
      ]
     },
     "execution_count": 5,
     "metadata": {},
     "output_type": "execute_result"
    }
   ],
   "source": [
    "text_summary = summarize_text(\n",
    "    text_body=translated_text[\"TRANSLATED_TEXT\"],\n",
    "    lines=1\n",
    ")\n",
    "text_summary"
   ]
  },
  {
   "cell_type": "markdown",
   "id": "329ab927",
   "metadata": {},
   "source": [
    "#### <b>Task 4: </b> Text CLassification"
   ]
  },
  {
   "cell_type": "code",
   "execution_count": 6,
   "id": "e6e49082",
   "metadata": {},
   "outputs": [
    {
     "data": {
      "text/plain": [
       "'News'"
      ]
     },
     "execution_count": 6,
     "metadata": {},
     "output_type": "execute_result"
    }
   ],
   "source": [
    "text_category = detect_category(\n",
    "    text_body=translated_text[\"TRANSLATED_TEXT\"],\n",
    "    category_list=[\"News\", \"Review\", \"Tweet\", \"General\",\n",
    "                   \"Article\", \"Scientific Paper\", \"Other\"]\n",
    ")\n",
    "text_category"
   ]
  },
  {
   "cell_type": "markdown",
   "id": "e6a73d1c",
   "metadata": {},
   "source": [
    "#### <b>Task 5: </b> Sentiment Classification"
   ]
  },
  {
   "cell_type": "code",
   "execution_count": 7,
   "id": "d9b99121",
   "metadata": {},
   "outputs": [
    {
     "data": {
      "text/plain": [
       "'Positive'"
      ]
     },
     "execution_count": 7,
     "metadata": {},
     "output_type": "execute_result"
    }
   ],
   "source": [
    "text_sentiment = detect_sentiment(\n",
    "    text_body=translated_text[\"TRANSLATED_TEXT\"],\n",
    "    sentiment_list=[\"Positive\", \"Neutral\", \"Negative\"]\n",
    ")\n",
    "text_sentiment"
   ]
  },
  {
   "cell_type": "markdown",
   "id": "8ab5ebac",
   "metadata": {},
   "source": [
    "#### <b>Task 6: </b>Topic Mining"
   ]
  },
  {
   "cell_type": "code",
   "execution_count": 8,
   "id": "789f22ed",
   "metadata": {},
   "outputs": [
    {
     "data": {
      "text/plain": [
       "['Textile sector', 'Production-based incentive', 'Exports']"
      ]
     },
     "execution_count": 8,
     "metadata": {},
     "output_type": "execute_result"
    }
   ],
   "source": [
    "text_topics = topics(\n",
    "    text_body=translated_text[\"TRANSLATED_TEXT\"]\n",
    ")\n",
    "text_topics"
   ]
  },
  {
   "cell_type": "markdown",
   "id": "086b97e8",
   "metadata": {},
   "source": [
    "#### <b>Task 7:</b> Named Entity Recognition"
   ]
  },
  {
   "cell_type": "code",
   "execution_count": 9,
   "id": "5ea56f09",
   "metadata": {},
   "outputs": [
    {
     "data": {
      "text/plain": [
       "{'ORG': ['Central Cabinet',\n",
       "  'PBI',\n",
       "  'Cabinet',\n",
       "  'Pharma',\n",
       "  'Metal',\n",
       "  'Auto',\n",
       "  'Government'],\n",
       " 'PERSON': ['Anurag Thakur', 'Narendra Modi'],\n",
       " 'MONEY': ['Rs 10,683 crore'],\n",
       " 'DATE': ['today']}"
      ]
     },
     "execution_count": 9,
     "metadata": {},
     "output_type": "execute_result"
    }
   ],
   "source": [
    "text_ner = named_entities(\n",
    "    text_body=translated_text[\"TRANSLATED_TEXT\"]\n",
    ")\n",
    "text_ner"
   ]
  },
  {
   "cell_type": "markdown",
   "id": "686454ac",
   "metadata": {},
   "source": [
    "### Combine the results as chain\n",
    "\n",
    "Sometimes it is difficult or not efficient to achive the results in single prompt, so chaining the results might be useful in some scenarios to get the final results. Following function utilize the above prompts to get the results"
   ]
  },
  {
   "cell_type": "code",
   "execution_count": 4,
   "id": "b85a2ffc",
   "metadata": {},
   "outputs": [
    {
     "data": {
      "text/plain": [
       "{'ORIGINAL_TEXT': 'टेक्सटाइल सेक्टर में घरेलू निर्माण को बढ़ाने और निर्यात को बढ़ावा देने के लिये केन्द्रीय \\n    मंत्रिमंडल ने आज  10,683 करोड़ रुपये की उत्पादन आधारित प्रोत्साहन (पीएलआई) योजना को \\n    मंजूरी दे दी है। केन्द्रीय मंत्री अनुराग ठाकुर ने आज इस बारे में जानकारी दी। \\n    ये फैसला प्रधानमंत्री नरेन्द्र मोदी की अध्यक्षता में हुई कैबिनेट की बैठक में लिया गया है। \\n    मंत्रिमंडल इससे पहले देश में विनिर्माण क्षमता और निर्यात को बढ़ावा देने के लिये 13 प्रमुख क्षेत्रों के लिये \\n    पीएलआई योजना को मंजूरी दे चुका है।\\n\\n    केन्द्रीय मंत्री अनुराग ठाकुर के मुताबिक कैबिनेट ने मानव निर्मित रेशे  (man-made fibre) मानव निर्मित \\n    फैब्रिक और टेक्निकल टेक्सटाइल के 10 सेग्मेंट या उत्पादों के लिये प्रोत्साहन योजना को मंजूरी दी है। \\n    टेक्निकल टेक्सटाइल फार्मा, मेटल, ऑटो आदि सेक्टर में काम आने वाले खास फैब्रिक होते हैं। क\\n    ोविड के दौरान इनकी मांग काफी बढ़ी थी, जिसके बाद सरकार ने इनके घरेलू उत्पादन को बढ़ाने पर \\n    जोर दिया है। सरकार का अनुमान है कि इस योजना से सीधे तौर पर 7.5 लाख लोगों को रोजगार उपलब्ध \\n    होगा वहीं अप्रत्यक्ष रूप से इससे कहीं ज्यादा लोगों को रोजगार मिल सकेगा। \\n    योजना से छोटे शहरों को फायदा मिलने की उम्मीद है।',\n",
       " 'TRANSLATED_TEXT': 'The Central Cabinet has approved a production-based incentive (PBI) scheme worth Rs 10,683 crore today to increase domestic construction and boost exports in the textile sector. Central Minister Anurag Thakur provided information about this today. This decision was taken in a cabinet meeting chaired by Prime Minister Narendra Modi. Prior to this, the Cabinet had approved the PBI scheme for 13 major sectors in the country to increase manufacturing capacity and exports. According to Central Minister Anurag Thakur, the Cabinet has approved the incentive scheme for 10 segments or products of man-made fibers, man-made fabrics, and technical textiles. Technical textiles include special fabrics used in the pharma, metal, auto, and other sectors. Their demand increased significantly during COVID, after which the government emphasized increasing their domestic production. The government estimates that this scheme will directly provide employment to 7.5 lakh people and indirectly to many more. The scheme is expected to benefit small towns.',\n",
       " 'DETECTED_LANGUAGE': {'DETECTED_LANGUAGE': 'Hindi'},\n",
       " 'TRANSLATED_LANGUAGE': 'English',\n",
       " 'SUMMARIZED_TEXT': 'The Central Cabinet has approved a production-based incentive (PBI) scheme worth Rs 10,683 crore to increase domestic construction and boost exports in the textile sector, covering 10 segments or products of man-made fibers, man-made fabrics, and technical textiles, which is expected to provide employment to 7.5 lakh people and benefit small towns.',\n",
       " 'CATEGORY': 'News',\n",
       " 'SENTIMENT': 'Positive',\n",
       " 'TOPICS': ['Textile sector', 'Production-based incentive', 'Exports'],\n",
       " 'NER': {'ORG': ['Central Cabinet',\n",
       "   'PBI',\n",
       "   'Cabinet',\n",
       "   'Pharma',\n",
       "   'Metal',\n",
       "   'Auto',\n",
       "   'Government'],\n",
       "  'PERSON': ['Anurag Thakur', 'Narendra Modi'],\n",
       "  'MONEY': ['Rs 10,683 crore'],\n",
       "  'DATE': ['today']}}"
      ]
     },
     "execution_count": 4,
     "metadata": {},
     "output_type": "execute_result"
    }
   ],
   "source": [
    "model_results = lang_chain(\n",
    "    text_body=text, \n",
    "    translated_lang=\"English\", \n",
    "    text_category_list=[\"News\", \"Review\", \"Tweet\", \"General\",\n",
    "                        \"Article\", \"Scientific Paper\", \"Other\"],\n",
    "    text_sentiment_list=[\"Positive\", \"Neutral\", \"Negative\"]\n",
    ")\n",
    "model_results"
   ]
  },
  {
   "cell_type": "code",
   "execution_count": 3,
   "id": "396c24b7",
   "metadata": {},
   "outputs": [],
   "source": [
    "text_list = [\n",
    "    \"\"\"केंद्रीय मंत्रीमंडल ने टेक्‍सटाइल उद्योग में रोजगार के अवसर बढ़ाने और निवेश को आकर्षित करने के ल\n",
    "    िए सात मेगा इंटीग्रेटेड टेक्‍सटाइल पार्क की स्‍थापना करने के प्रस्‍ताव को अपनी मंजूरी दे दी। \n",
    "    प्रधानमंत्री नरेंद्र मोदी की अध्‍यक्षता में बुधवार को हुई केंद्रीय मंत्रिमंडल की बैठक में 7 मेगा इंटीग्रेटेड \n",
    "    टेक्‍सटाइल रीजन एंड अपैरल (पीएम-मित्र) पार्क की स्‍थापना को मंजूरी प्रदान की गई। 5 साल में \n",
    "    इन पार्कों पर कुल 4445 करोड़ रुपये का खर्च किया जाएगा।\n",
    "\n",
    "    केंद्रीय मंत्री पीयूष गोयल ने प्रेस कॉन्‍फ्रेंस में बताया कि पीएम मित्र योजना के लिए पांच साल की अवधि \n",
    "    के लिए कुल 4445 करोड़ रुपये का प्रावधान किया गया है। यह निर्णय पीएम मोदी के 5एफ दृ्रष्टिकोण \n",
    "    से प्रेरित है, जो फार्म टू फाइबर टू फैक्‍टरी टू फैशन टू फॉरेन है।\"\"\",\n",
    "    \"\"\"ਪ੍ਰਧਾਨ ਮੰਤਰੀ ਨਰਿੰਦਰ ਮੋਦੀ ਨੂੰ ਫਿਜੀ ਦੇ ਸਰਵਉੱਚ ਸਨਮਾਨ ਨਾਲ ਸਨਮਾਨਿਤ ਕੀਤਾ ਗਿਆ ਹੈ। ਪੀਐਮ ਮੋਦੀ ਨੂੰ ਫ\n",
    "    ਿਜੀ ਦੇ ਸਰਵਉੱਚ ਸਨਮਾਨ 'ਕੰਪੇਨੀਅਨ ਆਫ ਦਿ ਆਰਡਰ ਆਫ ਫਿਜੀ' ਨਾਲ ਫਿਜੀ ਦੀ ਪ੍ਰਧਾਨ ਮੰਤਰੀ ਸਿਤਾਵਾਨੀ \n",
    "    ਰਬੂਕਾ ਨੇ ਸਨਮਾਨਿਤ ਕੀਤਾ ਹੈ। ਹਾਲਾਂਕਿ, ਹੁਣ ਤੱਕ ਸਿਰਫ ਕੁਝ ਗੈਰ-ਫਿਜੀ ਲੋਕਾਂ ਨੂੰ ਇਹ ਸਨਮਾਨ ਮਿਲਿਆ ਹੈ। \n",
    "    ਇਸ ਦੇ ਨਾਲ ਹੀ ਪਲਾਊ ਗਣਰਾਜ ਨੇ ਪੀਐਮ ਨਰਿੰਦਰ ਮੋਦੀ ਨੂੰ ਵੀ ਸਨਮਾਨਿਤ ਕੀਤਾ। ਰਿਪਬਲਿਕ ਆਫ਼ ਪਲਾਊ ਨੂੰ \n",
    "    ਅਬਾਕਲ ਅਵਾਰਡ ਨਾਲ ਸਨਮਾਨਿਤ ਕੀਤਾ ਗਿਆ। ਇਹ ਦੋਵੇਂ ਐਵਾਰਡ ਪੀਐਮ ਮੋਦੀ ਨੂੰ ਪਾਪੂਆ ਨਿਊ ਗਿਨੀ ਵਿੱਚ ਹੀ ਦ\n",
    "    ਿੱਤੇ ਗਏ ਹਨ।\n",
    "\n",
    "    ਪਾਪੂਆ ਨਿਊ ਗਿਨੀ ਨੇ ਪ੍ਰਸ਼ਾਂਤ ਟਾਪੂ ਦੇਸ਼ਾਂ ਦੀ ਏਕਤਾ ਦਾ ਸਮਰਥਨ ਕਰਨ ਅਤੇ ਗਲੋਬਲ ਸਾਊਥ ਦੀ ਅਗਵਾਈ ਕਰਨ \n",
    "    ਲਈ ਪ੍ਰਧਾਨ ਮੰਤਰੀ ਨਰਿੰਦਰ ਮੋਦੀ ਨੂੰ ‘Companion of the Order of Logohu’ ਸਨਮਾਨ ਨਾਲ \n",
    "    ਸਨਮਾਨਿਤ ਕੀਤਾ ਹੈ। ਦੂਜੇ ਦੇਸ਼ਾਂ ਦੇ ਬਹੁਤ ਘੱਟ ਲੋਕਾਂ ਨੂੰ ਇਹ ਪੁਰਸਕਾਰ ਮਿਲਿਆ ਹੈ। \n",
    "    ਇਸ ਦੇ ਨਾਲ ਹੀ ਪ੍ਰਧਾਨ ਮੰਤਰੀ ਨਰਿੰਦਰ ਮੋਦੀ ਵੱਲੋਂ ਫੋਰਮ ਫਾਰ ਇੰਡੀਆ-ਪੈਸੀਫਿਕ \n",
    "    ਆਈਲੈਂਡਸ ਕੋਆਪਰੇਸ਼ਨ (FIPIC) ਦੇ ਨੇਤਾਵਾਂ ਲਈ ਆਯੋਜਿਤ ਦੁਪਹਿਰ ਦੇ ਖਾਣੇ ਵਿੱਚ ਬਾਜਰੇ ਦੀ ਬਣੀ ਬ\n",
    "    ਿਰਯਾਨੀ ਪਰੋਸੀ ਜਾਵੇਗੀ।\n",
    "    \"\"\",\n",
    "    \"\"\"আচ্ছা সৌরভ গঙ্গোপাধ্যায়ের সঙ্গে বিরাট কোহলির দুরত্ব কি আদৌ কমেছে? মহারাজ কি \n",
    "    'কিং কোহলি'-কে মন থেকে মাফ করে দিয়েছেন? ভারতের প্রাক্তন অধিনায়কের নতুন টুইট \n",
    "    দেখে নেটপাড়া কিন্তু অন্য গন্ধ পাচ্ছেন। কিন্তু কেন সৌরভের নতুন টুইটকে ঘিরে বিতর্ক তৈরি হল? \n",
    "\n",
    "    রবিবার অর্থাৎ ২২ মে ৬১ বলে ১০১ রানে অপরাজিত ছিলেন বিরাট। সেই সুবাদে নির্ধারিত \n",
    "    ২০ ওভারে ৫ উইকেটে ১৯৭ রান তুলেছিল রয়্যাল চ্যালেঞ্জার্স ব্যাঙ্গালোরকে \n",
    "    । জবাবে ব্যাট করতে নেমে দাপট দেখান শুভমন গিল । মাত্র ৫২ বলে ১০৪ রানে অপরাজিত \n",
    "    থাকেন পঞ্জাব তনয়। ফলে ৬ উইকেটে গুজরাত টাইটান্স শুধু জয়ই পায়নি, চলতি আইপিএল \n",
    "    (IPL 2023) থেকে আরসিবি-কে (RCB) ছিটকে দিয়েছে গুজরাত। \n",
    "    সেই ম্যাচ শেষ হওয়ার পরেই একটি টুইট করে সৌরভ। আর সেটা নিয়েই শুরু হয়েছে নতুন বিতর্ক।\n",
    "    \"\"\"\n",
    "]"
   ]
  },
  {
   "cell_type": "markdown",
   "id": "48e4d110",
   "metadata": {},
   "source": [
    "### Evaluate the prompt results on more texts\n",
    "\n",
    "Passing the text in different results to evaluate how efficiently it can process the information"
   ]
  },
  {
   "cell_type": "code",
   "execution_count": 4,
   "id": "c1d36af0",
   "metadata": {},
   "outputs": [
    {
     "name": "stdout",
     "output_type": "stream",
     "text": [
      "\n",
      "\n",
      "Results for the text: 1\n",
      "-----------------------------\n",
      "Original Text:\n",
      "केंद्रीय मंत्रीमंडल ने टेक्‍सटाइल उद्योग में रोजगार के अवसर बढ़ाने और निवेश को आकर्षित करने के ल\n",
      "    िए सात मेगा इंटीग्रेटेड टेक्‍सटाइल पार्क की स्‍थापना करने के प्रस्‍ताव को अपनी मंजूरी दे दी। \n",
      "    प्रधानमंत्री नरेंद्र मोदी की अध्‍यक्षता में बुधवार को हुई केंद्रीय मंत्रिमंडल की बैठक में 7 मेगा इंटीग्रेटेड \n",
      "    टेक्‍सटाइल रीजन एंड अपैरल (पीएम-मित्र) पार्क की स्‍थापना को मंजूरी प्रदान की गई। 5 साल में \n",
      "    इन पार्कों पर कुल 4445 करोड़ रुपये का खर्च किया जाएगा।\n",
      "\n",
      "    केंद्रीय मंत्री पीयूष गोयल ने प्रेस कॉन्‍फ्रेंस में बताया कि पीएम मित्र योजना के लिए पांच साल की अवधि \n",
      "    के लिए कुल 4445 करोड़ रुपये का प्रावधान किया गया है। यह निर्णय पीएम मोदी के 5एफ दृ्रष्टिकोण \n",
      "    से प्रेरित है, जो फार्म टू फाइबर टू फैक्‍टरी टू फैशन टू फॉरेन है।\n",
      "-------------\n",
      "Model Results:\n",
      "CATEGORY: News\n",
      "DETECTED_LANGUAGE:\n",
      "  DETECTED_LANGUAGE: Hindi\n",
      "NER:\n",
      "  MONEY:\n",
      "  - Rs 4,445 crore\n",
      "  - 5 years\n",
      "  ORG:\n",
      "  - Central Cabinet\n",
      "  - PM-MITRA\n",
      "  - Central Minister\n",
      "  PERSON:\n",
      "  - Narendra Modi\n",
      "  - Piyush Goyal\n",
      "SENTIMENT: Positive\n",
      "SUMMARIZED_TEXT: The Central Cabinet has approved the establishment of seven mega\n",
      "  integrated textile parks with a total budget of Rs 4,445 crore for five years to\n",
      "  increase employment opportunities and attract investment in the textile industry,\n",
      "  inspired by PM Modi's 5F vision.\n",
      "TOPICS:\n",
      "- Textile Parks\n",
      "- Employment Opportunities\n",
      "- Investment\n",
      "TRANSLATED_LANGUAGE: English\n",
      "TRANSLATED_TEXT: The Central Cabinet has approved the proposal to establish seven\n",
      "  mega integrated textile parks to increase employment opportunities and attract investment\n",
      "  in the textile industry. The meeting of the Central Cabinet was held on Wednesday\n",
      "  under the chairmanship of Prime Minister Narendra Modi, in which the establishment\n",
      "  of 7 mega integrated textile region and apparel (PM-MITRA) parks was approved. A\n",
      "  total of Rs 4,445 crore will be spent on these parks in 5 years. Central Minister\n",
      "  Piyush Goyal said in a press conference that a provision of Rs 4,445 crore has been\n",
      "  made for a period of five years for the PM-MITRA scheme. This decision is inspired\n",
      "  by PM Modi's 5F vision, which is Farm to Fiber to Factory to Fashion to Foreign.\n",
      "\n",
      "\n",
      "\n",
      "Results for the text: 2\n",
      "-----------------------------\n",
      "Original Text:\n",
      "ਪ੍ਰਧਾਨ ਮੰਤਰੀ ਨਰਿੰਦਰ ਮੋਦੀ ਨੂੰ ਫਿਜੀ ਦੇ ਸਰਵਉੱਚ ਸਨਮਾਨ ਨਾਲ ਸਨਮਾਨਿਤ ਕੀਤਾ ਗਿਆ ਹੈ। ਪੀਐਮ ਮੋਦੀ ਨੂੰ ਫ\n",
      "    ਿਜੀ ਦੇ ਸਰਵਉੱਚ ਸਨਮਾਨ 'ਕੰਪੇਨੀਅਨ ਆਫ ਦਿ ਆਰਡਰ ਆਫ ਫਿਜੀ' ਨਾਲ ਫਿਜੀ ਦੀ ਪ੍ਰਧਾਨ ਮੰਤਰੀ ਸਿਤਾਵਾਨੀ \n",
      "    ਰਬੂਕਾ ਨੇ ਸਨਮਾਨਿਤ ਕੀਤਾ ਹੈ। ਹਾਲਾਂਕਿ, ਹੁਣ ਤੱਕ ਸਿਰਫ ਕੁਝ ਗੈਰ-ਫਿਜੀ ਲੋਕਾਂ ਨੂੰ ਇਹ ਸਨਮਾਨ ਮਿਲਿਆ ਹੈ। \n",
      "    ਇਸ ਦੇ ਨਾਲ ਹੀ ਪਲਾਊ ਗਣਰਾਜ ਨੇ ਪੀਐਮ ਨਰਿੰਦਰ ਮੋਦੀ ਨੂੰ ਵੀ ਸਨਮਾਨਿਤ ਕੀਤਾ। ਰਿਪਬਲਿਕ ਆਫ਼ ਪਲਾਊ ਨੂੰ \n",
      "    ਅਬਾਕਲ ਅਵਾਰਡ ਨਾਲ ਸਨਮਾਨਿਤ ਕੀਤਾ ਗਿਆ। ਇਹ ਦੋਵੇਂ ਐਵਾਰਡ ਪੀਐਮ ਮੋਦੀ ਨੂੰ ਪਾਪੂਆ ਨਿਊ ਗਿਨੀ ਵਿੱਚ ਹੀ ਦ\n",
      "    ਿੱਤੇ ਗਏ ਹਨ।\n",
      "\n",
      "    ਪਾਪੂਆ ਨਿਊ ਗਿਨੀ ਨੇ ਪ੍ਰਸ਼ਾਂਤ ਟਾਪੂ ਦੇਸ਼ਾਂ ਦੀ ਏਕਤਾ ਦਾ ਸਮਰਥਨ ਕਰਨ ਅਤੇ ਗਲੋਬਲ ਸਾਊਥ ਦੀ ਅਗਵਾਈ ਕਰਨ \n",
      "    ਲਈ ਪ੍ਰਧਾਨ ਮੰਤਰੀ ਨਰਿੰਦਰ ਮੋਦੀ ਨੂੰ ‘Companion of the Order of Logohu’ ਸਨਮਾਨ ਨਾਲ \n",
      "    ਸਨਮਾਨਿਤ ਕੀਤਾ ਹੈ। ਦੂਜੇ ਦੇਸ਼ਾਂ ਦੇ ਬਹੁਤ ਘੱਟ ਲੋਕਾਂ ਨੂੰ ਇਹ ਪੁਰਸਕਾਰ ਮਿਲਿਆ ਹੈ। \n",
      "    ਇਸ ਦੇ ਨਾਲ ਹੀ ਪ੍ਰਧਾਨ ਮੰਤਰੀ ਨਰਿੰਦਰ ਮੋਦੀ ਵੱਲੋਂ ਫੋਰਮ ਫਾਰ ਇੰਡੀਆ-ਪੈਸੀਫਿਕ \n",
      "    ਆਈਲੈਂਡਸ ਕੋਆਪਰੇਸ਼ਨ (FIPIC) ਦੇ ਨੇਤਾਵਾਂ ਲਈ ਆਯੋਜਿਤ ਦੁਪਹਿਰ ਦੇ ਖਾਣੇ ਵਿੱਚ ਬਾਜਰੇ ਦੀ ਬਣੀ ਬ\n",
      "    ਿਰਯਾਨੀ ਪਰੋਸੀ ਜਾਵੇਗੀ।\n",
      "    \n",
      "-------------\n",
      "Model Results:\n",
      "CATEGORY: News\n",
      "DETECTED_LANGUAGE:\n",
      "  DETECTED_LANGUAGE: Punjabi\n",
      "NER:\n",
      "  LOCATION:\n",
      "  - Fiji\n",
      "  - Palau\n",
      "  - Papua New Guinea\n",
      "  ORG:\n",
      "  - Companion of the Order of Fiji\n",
      "  - Order of Abakal Award\n",
      "  - Republic of Palau\n",
      "  - Companion of the Order of Logohu\n",
      "  - Global South\n",
      "  - Forum for India-Pacific Islands Cooperation (FIPIC)\n",
      "  PERSON:\n",
      "  - Narendra Modi\n",
      "  - Sita Veeni Rabuka\n",
      "SENTIMENT: Positive\n",
      "SUMMARIZED_TEXT: Prime Minister Narendra Modi has been honored with the highest honor\n",
      "  of Fiji, 'Companion of the Order of Fiji', and also received the 'Companion of the\n",
      "  Order of Logohu' from Papua New Guinea for supporting peaceful countries and leading\n",
      "  Global South. He also organized a business lunch for the leaders of FIPIC.\n",
      "TOPICS:\n",
      "- Honors\n",
      "- Fiji\n",
      "- Palau\n",
      "- Papua New Guinea\n",
      "- Unity\n",
      "- Global South\n",
      "- Business Lunch\n",
      "TRANSLATED_LANGUAGE: English\n",
      "TRANSLATED_TEXT: 'Prime Minister Narendra Modi has been honored with the highest honor\n",
      "  of Fiji. PM Modi has been honored with the ''Companion of the Order of Fiji'' for\n",
      "  his contribution to Fiji, along with the Prime Minister of Fiji, Sita Veeni Rabuka.\n",
      "  However, so far only a few non-Fijian people have received this honor. Palau President\n",
      "  also honored PM Narendra Modi. The Republic of Palau has now been honored with the\n",
      "  Order of Abakal Award. Both these awards were given to PM Modi only in Papua New\n",
      "  Guinea.\n",
      "\n",
      "\n",
      "  Papua New Guinea has honored Prime Minister Narendra Modi with the ''Companion of\n",
      "  the Order of Logohu'' for supporting the unity of peaceful countries and leading\n",
      "  Global South. Few people from other countries have received this award. Along with\n",
      "  this, Prime Minister Narendra Modi has organized a business lunch for the leaders\n",
      "  of the Forum for India-Pacific Islands Cooperation (FIPIC) in which the business\n",
      "  community will participate.'\n",
      "\n",
      "\n",
      "\n",
      "Results for the text: 3\n",
      "-----------------------------\n",
      "Original Text:\n",
      "আচ্ছা সৌরভ গঙ্গোপাধ্যায়ের সঙ্গে বিরাট কোহলির দুরত্ব কি আদৌ কমেছে? মহারাজ কি \n",
      "    'কিং কোহলি'-কে মন থেকে মাফ করে দিয়েছেন? ভারতের প্রাক্তন অধিনায়কের নতুন টুইট \n",
      "    দেখে নেটপাড়া কিন্তু অন্য গন্ধ পাচ্ছেন। কিন্তু কেন সৌরভের নতুন টুইটকে ঘিরে বিতর্ক তৈরি হল? \n",
      "\n",
      "    রবিবার অর্থাৎ ২২ মে ৬১ বলে ১০১ রানে অপরাজিত ছিলেন বিরাট। সেই সুবাদে নির্ধারিত \n",
      "    ২০ ওভারে ৫ উইকেটে ১৯৭ রান তুলেছিল রয়্যাল চ্যালেঞ্জার্স ব্যাঙ্গালোরকে \n",
      "    । জবাবে ব্যাট করতে নেমে দাপট দেখান শুভমন গিল । মাত্র ৫২ বলে ১০৪ রানে অপরাজিত \n",
      "    থাকেন পঞ্জাব তনয়। ফলে ৬ উইকেটে গুজরাত টাইটান্স শুধু জয়ই পায়নি, চলতি আইপিএল \n",
      "    (IPL 2023) থেকে আরসিবি-কে (RCB) ছিটকে দিয়েছে গুজরাত। \n",
      "    সেই ম্যাচ শেষ হওয়ার পরেই একটি টুইট করে সৌরভ। আর সেটা নিয়েই শুরু হয়েছে নতুন বিতর্ক।\n",
      "    \n",
      "-------------\n",
      "Model Results:\n",
      "CATEGORY: News\n",
      "DETECTED_LANGUAGE:\n",
      "  DETECTED_LANGUAGE: Bengali\n",
      "NER:\n",
      "  DATE:\n",
      "  - Sunday\n",
      "  - May 22\n",
      "  - '2023'\n",
      "  ORG:\n",
      "  - Royal Challengers Bangalore\n",
      "  - Kolkata Knight Riders\n",
      "  - Punjab\n",
      "  - Gujarat Titans\n",
      "  - IPL\n",
      "  PERSON:\n",
      "  - Sachin\n",
      "  - Sourav Ganguly\n",
      "  - Maharaj\n",
      "  - King Kohli\n",
      "  - Virat\n",
      "  - Shubman Gill\n",
      "SENTIMENT: Neutral\n",
      "SUMMARIZED_TEXT: Controversy surrounds Sourav Ganguly's tweet after Virat Kohli's\n",
      "  Royal Challengers Bangalore lost to Kolkata Knight Riders and were eliminated from\n",
      "  IPL 2023.\n",
      "TOPICS:\n",
      "- Cricket\n",
      "- Controversy\n",
      "- IPL\n",
      "TRANSLATED_LANGUAGE: English\n",
      "TRANSLATED_TEXT: '\"What, has the distance between Sachin and Sourav Ganguly decreased?\n",
      "  Has the Maharaj forgiven ''King Kohli'' from his heart? After seeing the new tweet\n",
      "  of the former leader of India, the internet is buzzing with a different scent. But\n",
      "  why has there been controversy surrounding Sourav''s new tweet?\n",
      "\n",
      "\n",
      "  On Sunday, May 22, 61, Virat remained unbeaten at 101 runs. In the allotted 20 overs,\n",
      "  Royal Challengers Bangalore scored 197 runs against Kolkata Knight Riders. In response,\n",
      "  Shubman Gill scored an unbeaten 104 runs in just 52 balls, leading Punjab to victory\n",
      "  with 6 wickets. As a result, Gujarat Titans not only lost the match but also eliminated\n",
      "  RCB from IPL 2023.\n",
      "\n",
      "\n",
      "  After the end of that match, Sourav tweeted, and that''s where the new controversy\n",
      "  began.\"'\n",
      "\n"
     ]
    }
   ],
   "source": [
    "for idx, text in enumerate(text_list):\n",
    "    print(\"\\n\")\n",
    "    print(f\"Results for the text: {idx+1}\")\n",
    "    print(\"-----------------------------\")\n",
    "    print(\"Original Text:\")\n",
    "    print(text)\n",
    "    print(\"-------------\")\n",
    "    print(\"Model Results:\")\n",
    "    model_results = lang_chain(\n",
    "        text_body=text, \n",
    "        translated_lang=\"English\", \n",
    "        text_category_list=[\"News\", \"Review\", \"Tweet\", \"General\",\n",
    "                            \"Article\", \"Scientific Paper\", \"Other\"],\n",
    "        text_sentiment_list=[\"Positive\", \"Neutral\", \"Negative\"]\n",
    "    )\n",
    "    model_results.pop(\"ORIGINAL_TEXT\")\n",
    "    print(yaml.dump(model_results))\n",
    "    "
   ]
  }
 ],
 "metadata": {
  "kernelspec": {
   "display_name": "Python (testai)",
   "language": "python",
   "name": "env-testai"
  },
  "language_info": {
   "codemirror_mode": {
    "name": "ipython",
    "version": 3
   },
   "file_extension": ".py",
   "mimetype": "text/x-python",
   "name": "python",
   "nbconvert_exporter": "python",
   "pygments_lexer": "ipython3",
   "version": "3.8.16"
  },
  "vscode": {
   "interpreter": {
    "hash": "31f2aee4e71d21fbe5cf8b01ff0e069b9275f58929596ceb00d14d90e3e16cd6"
   }
  }
 },
 "nbformat": 4,
 "nbformat_minor": 5
}
